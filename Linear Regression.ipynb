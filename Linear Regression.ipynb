{
 "cells": [
  {
   "cell_type": "code",
   "execution_count": 18,
   "metadata": {},
   "outputs": [],
   "source": [
    "from sklearn.linear_model import LinearRegression\n",
    "from sklearn.cross_validation import train_test_split\n",
    "from sklearn.metrics import accuracy_score\n",
    "import numpy as np\n",
    "import matplotlib.pyplot as plt\n",
    "import pandas as pd\n",
    "from sklearn.cluster import KMeans\n",
    "import mpl_toolkits\n",
    "import seaborn as sns\n",
    "from sklearn.linear_model import LinearRegression, Ridge\n",
    "%matplotlib inline\n",
    "\n",
    "reg = LinearRegression()"
   ]
  },
  {
   "cell_type": "code",
   "execution_count": 19,
   "metadata": {},
   "outputs": [
    {
     "data": {
      "text/html": [
       "<div>\n",
       "<style>\n",
       "    .dataframe thead tr:only-child th {\n",
       "        text-align: right;\n",
       "    }\n",
       "\n",
       "    .dataframe thead th {\n",
       "        text-align: left;\n",
       "    }\n",
       "\n",
       "    .dataframe tbody tr th {\n",
       "        vertical-align: top;\n",
       "    }\n",
       "</style>\n",
       "<table border=\"1\" class=\"dataframe\">\n",
       "  <thead>\n",
       "    <tr style=\"text-align: right;\">\n",
       "      <th></th>\n",
       "      <th>Loan_ID</th>\n",
       "      <th>Gender</th>\n",
       "      <th>Married</th>\n",
       "      <th>Dependents</th>\n",
       "      <th>Education</th>\n",
       "      <th>Self_Employed</th>\n",
       "      <th>ApplicantIncome</th>\n",
       "      <th>CoapplicantIncome</th>\n",
       "      <th>LoanAmount</th>\n",
       "      <th>Loan_Amount_Term</th>\n",
       "      <th>Credit_History</th>\n",
       "      <th>Property_Area</th>\n",
       "      <th>Loan_Status</th>\n",
       "    </tr>\n",
       "  </thead>\n",
       "  <tbody>\n",
       "    <tr>\n",
       "      <th>0</th>\n",
       "      <td>LP001002</td>\n",
       "      <td>Male</td>\n",
       "      <td>No</td>\n",
       "      <td>0</td>\n",
       "      <td>Graduate</td>\n",
       "      <td>No</td>\n",
       "      <td>5849</td>\n",
       "      <td>0</td>\n",
       "      <td>0.0</td>\n",
       "      <td>360.0</td>\n",
       "      <td>1.0</td>\n",
       "      <td>Urban</td>\n",
       "      <td>Y</td>\n",
       "    </tr>\n",
       "    <tr>\n",
       "      <th>1</th>\n",
       "      <td>LP001003</td>\n",
       "      <td>Male</td>\n",
       "      <td>Yes</td>\n",
       "      <td>1</td>\n",
       "      <td>Graduate</td>\n",
       "      <td>No</td>\n",
       "      <td>4583</td>\n",
       "      <td>1508</td>\n",
       "      <td>128.0</td>\n",
       "      <td>360.0</td>\n",
       "      <td>1.0</td>\n",
       "      <td>Rural</td>\n",
       "      <td>N</td>\n",
       "    </tr>\n",
       "    <tr>\n",
       "      <th>2</th>\n",
       "      <td>LP001005</td>\n",
       "      <td>Male</td>\n",
       "      <td>Yes</td>\n",
       "      <td>0</td>\n",
       "      <td>Graduate</td>\n",
       "      <td>Yes</td>\n",
       "      <td>3000</td>\n",
       "      <td>0</td>\n",
       "      <td>66.0</td>\n",
       "      <td>360.0</td>\n",
       "      <td>1.0</td>\n",
       "      <td>Urban</td>\n",
       "      <td>Y</td>\n",
       "    </tr>\n",
       "    <tr>\n",
       "      <th>3</th>\n",
       "      <td>LP001006</td>\n",
       "      <td>Male</td>\n",
       "      <td>Yes</td>\n",
       "      <td>0</td>\n",
       "      <td>Not Graduate</td>\n",
       "      <td>No</td>\n",
       "      <td>2583</td>\n",
       "      <td>2358</td>\n",
       "      <td>120.0</td>\n",
       "      <td>360.0</td>\n",
       "      <td>1.0</td>\n",
       "      <td>Urban</td>\n",
       "      <td>Y</td>\n",
       "    </tr>\n",
       "    <tr>\n",
       "      <th>4</th>\n",
       "      <td>LP001008</td>\n",
       "      <td>Male</td>\n",
       "      <td>No</td>\n",
       "      <td>0</td>\n",
       "      <td>Graduate</td>\n",
       "      <td>No</td>\n",
       "      <td>6000</td>\n",
       "      <td>0</td>\n",
       "      <td>141.0</td>\n",
       "      <td>360.0</td>\n",
       "      <td>1.0</td>\n",
       "      <td>Urban</td>\n",
       "      <td>Y</td>\n",
       "    </tr>\n",
       "  </tbody>\n",
       "</table>\n",
       "</div>"
      ],
      "text/plain": [
       "    Loan_ID Gender Married Dependents     Education Self_Employed  \\\n",
       "0  LP001002   Male      No          0      Graduate            No   \n",
       "1  LP001003   Male     Yes          1      Graduate            No   \n",
       "2  LP001005   Male     Yes          0      Graduate           Yes   \n",
       "3  LP001006   Male     Yes          0  Not Graduate            No   \n",
       "4  LP001008   Male      No          0      Graduate            No   \n",
       "\n",
       "   ApplicantIncome  CoapplicantIncome  LoanAmount  Loan_Amount_Term  \\\n",
       "0             5849                  0         0.0             360.0   \n",
       "1             4583               1508       128.0             360.0   \n",
       "2             3000                  0        66.0             360.0   \n",
       "3             2583               2358       120.0             360.0   \n",
       "4             6000                  0       141.0             360.0   \n",
       "\n",
       "   Credit_History Property_Area Loan_Status  \n",
       "0             1.0         Urban           Y  \n",
       "1             1.0         Rural           N  \n",
       "2             1.0         Urban           Y  \n",
       "3             1.0         Urban           Y  \n",
       "4             1.0         Urban           Y  "
      ]
     },
     "execution_count": 19,
     "metadata": {},
     "output_type": "execute_result"
    }
   ],
   "source": [
    "datafile2 = pd.read_csv('loan.csv')\n",
    "dataset2 = datafile2.fillna(0)\n",
    "dataset2.head()"
   ]
  },
  {
   "cell_type": "code",
   "execution_count": 20,
   "metadata": {},
   "outputs": [
    {
     "data": {
      "image/png": "[encoded data removed]",
      "text/plain": [
       "<matplotlib.figure.Figure at 0x14aa867dfd0>"
      ]
     },
     "metadata": {},
     "output_type": "display_data"
    }
   ],
   "source": [
    "sns.heatmap(dataset2.corr())\n",
    "plt.show()\n",
    "plt.rcParams['figure.figsize'] = (10, 7)"
   ]
  },
  {
   "cell_type": "markdown",
   "metadata": {},
   "source": [
    "Correlation between LoanAmount and ApplicantIncome is (0.5)\n",
    "\n",
    "Correlation between LoanAmount and CoapplicantIncome is (0.2)\n",
    "\n",
    "Correlation between LoanAmount and Loan_Amount_Term  is (0.1)\n",
    "\n",
    "Correlation between LoanAmount and Credit_History is (0.0)\n",
    "\n",
    "Correlation between LoanAmount and Loan_Status is (0.0)"
   ]
  },
  {
   "cell_type": "markdown",
   "metadata": {},
   "source": [
    "**Relationship significant**"
   ]
  },
  {
   "cell_type": "code",
   "execution_count": 21,
   "metadata": {},
   "outputs": [
    {
     "data": {
      "text/html": [
       "<div>\n",
       "<style>\n",
       "    .dataframe thead tr:only-child th {\n",
       "        text-align: right;\n",
       "    }\n",
       "\n",
       "    .dataframe thead th {\n",
       "        text-align: left;\n",
       "    }\n",
       "\n",
       "    .dataframe tbody tr th {\n",
       "        vertical-align: top;\n",
       "    }\n",
       "</style>\n",
       "<table border=\"1\" class=\"dataframe\">\n",
       "  <thead>\n",
       "    <tr style=\"text-align: right;\">\n",
       "      <th></th>\n",
       "      <th>ApplicantIncome</th>\n",
       "      <th>CoapplicantIncome</th>\n",
       "      <th>LoanAmount</th>\n",
       "      <th>Loan_Amount_Term</th>\n",
       "      <th>Credit_History</th>\n",
       "    </tr>\n",
       "  </thead>\n",
       "  <tbody>\n",
       "    <tr>\n",
       "      <th>ApplicantIncome</th>\n",
       "      <td>1.000000</td>\n",
       "      <td>-0.113043</td>\n",
       "      <td>0.524872</td>\n",
       "      <td>0.000083</td>\n",
       "      <td>0.001500</td>\n",
       "    </tr>\n",
       "    <tr>\n",
       "      <th>CoapplicantIncome</th>\n",
       "      <td>-0.113043</td>\n",
       "      <td>1.000000</td>\n",
       "      <td>0.213266</td>\n",
       "      <td>-0.021310</td>\n",
       "      <td>-0.035240</td>\n",
       "    </tr>\n",
       "    <tr>\n",
       "      <th>LoanAmount</th>\n",
       "      <td>0.524872</td>\n",
       "      <td>0.213266</td>\n",
       "      <td>1.000000</td>\n",
       "      <td>0.019654</td>\n",
       "      <td>-0.036075</td>\n",
       "    </tr>\n",
       "    <tr>\n",
       "      <th>Loan_Amount_Term</th>\n",
       "      <td>0.000083</td>\n",
       "      <td>-0.021310</td>\n",
       "      <td>0.019654</td>\n",
       "      <td>1.000000</td>\n",
       "      <td>0.049682</td>\n",
       "    </tr>\n",
       "    <tr>\n",
       "      <th>Credit_History</th>\n",
       "      <td>0.001500</td>\n",
       "      <td>-0.035240</td>\n",
       "      <td>-0.036075</td>\n",
       "      <td>0.049682</td>\n",
       "      <td>1.000000</td>\n",
       "    </tr>\n",
       "  </tbody>\n",
       "</table>\n",
       "</div>"
      ],
      "text/plain": [
       "                   ApplicantIncome  CoapplicantIncome  LoanAmount  \\\n",
       "ApplicantIncome           1.000000          -0.113043    0.524872   \n",
       "CoapplicantIncome        -0.113043           1.000000    0.213266   \n",
       "LoanAmount                0.524872           0.213266    1.000000   \n",
       "Loan_Amount_Term          0.000083          -0.021310    0.019654   \n",
       "Credit_History            0.001500          -0.035240   -0.036075   \n",
       "\n",
       "                   Loan_Amount_Term  Credit_History  \n",
       "ApplicantIncome            0.000083        0.001500  \n",
       "CoapplicantIncome         -0.021310       -0.035240  \n",
       "LoanAmount                 0.019654       -0.036075  \n",
       "Loan_Amount_Term           1.000000        0.049682  \n",
       "Credit_History             0.049682        1.000000  "
      ]
     },
     "execution_count": 21,
     "metadata": {},
     "output_type": "execute_result"
    }
   ],
   "source": [
    "dataset2.corr()"
   ]
  },
  {
   "cell_type": "markdown",
   "metadata": {},
   "source": [
    " yes the relationship significant because of the values in the corr matrix"
   ]
  },
  {
   "cell_type": "markdown",
   "metadata": {},
   "source": [
    "**LINEAR REGRESSIONS ASSUMPTIONS**\n",
    "\n",
    "Linear relationship\n",
    "\n",
    "Multivariate normality\n",
    "\n",
    "No or little multicollinearity\n",
    "\n",
    "No auto-correlation\n",
    "\n",
    "Homoscedasticity"
   ]
  },
  {
   "cell_type": "code",
   "execution_count": 22,
   "metadata": {
    "collapsed": true
   },
   "outputs": [],
   "source": [
    "from sklearn.cross_validation import train_test_split\n",
    "from sklearn import metrics"
   ]
  },
  {
   "cell_type": "code",
   "execution_count": 23,
   "metadata": {},
   "outputs": [],
   "source": [
    "\n",
    "x = dataset2[[\"ApplicantIncome\",\"CoapplicantIncome\", \"Loan_Amount_Term\"]]\n",
    "y = dataset2[\"LoanAmount\"]\n",
    "\n",
    "X_train, X_test, y_train, y_test = train_test_split(x, y, test_size=0.3)\n"
   ]
  },
  {
   "cell_type": "code",
   "execution_count": 24,
   "metadata": {},
   "outputs": [
    {
     "name": "stdout",
     "output_type": "stream",
     "text": [
      "[ 115.42359177  131.29477167  121.98550838  124.69137736  104.46219476]\n",
      "68.4314509824\n",
      "0.407836911436\n"
     ]
    },
    {
     "name": "stderr",
     "output_type": "stream",
     "text": [
      "C:\\Program Files (x86)\\Microsoft Visual Studio\\Shared\\Anaconda3_64\\lib\\site-packages\\matplotlib\\figure.py:403: UserWarning: matplotlib is currently using a non-GUI backend, so cannot show the figure\n",
      "  \"matplotlib is currently using a non-GUI backend, \"\n"
     ]
    },
    {
     "data": {
      "image/png": "[encoded data removed]",
      "text/plain": [
       "<matplotlib.figure.Figure at 0x14aa769a908>"
      ]
     },
     "metadata": {},
     "output_type": "display_data"
    }
   ],
   "source": [
    "lm = LinearRegression()\n",
    "lm.fit(X_train,y_train)\n",
    "predictions = lm.predict(X_test)\n",
    "print(predictions[0:5])\n",
    "\n",
    "fig, ax = plt.subplots()\n",
    "fit = np.polyfit(y_test, predictions,deg=1)\n",
    "ax.plot(predictions, fit[0] * predictions + fit[1], color='red')\n",
    "ax.scatter(predictions, y_test)\n",
    "plt.xlabel(\"true values\")\n",
    "plt.ylabel(\"Predcited values\")\n",
    "\n",
    "ridge = Ridge(fit_intercept=True, alpha=0.5)\n",
    "ridge.fit(X_train, y_train)\n",
    "y_pred = ridge.predict(X_test)\n",
    "rmse = np.sqrt(metrics.mean_squared_error(y_test, y_pred))\n",
    "\n",
    "\n",
    "print(rmse)\n",
    "\n",
    "fig.show()\n",
    "\n",
    "print(lm.score(X_test,y_test))"
   ]
  },
  {
   "cell_type": "markdown",
   "metadata": {
    "collapsed": true
   },
   "source": [
    "Residual Plot"
   ]
  },
  {
   "cell_type": "code",
   "execution_count": 25,
   "metadata": {},
   "outputs": [
    {
     "data": {
      "text/plain": [
       "<matplotlib.text.Text at 0x14aa76b3ef0>"
      ]
     },
     "execution_count": 25,
     "metadata": {},
     "output_type": "execute_result"
    },
    {
     "data": {
      "image/png": "[encoded data removed]",
      "text/plain": [
       "<matplotlib.figure.Figure at 0x14aa7ec7320>"
      ]
     },
     "metadata": {},
     "output_type": "display_data"
    }
   ],
   "source": [
    "plt.scatter(predictions, predictions-y_test, c='b', s=40, alpha=0.5)\n",
    "plt.hlines(y=0, xmin=50, xmax=450)\n",
    "plt.ylabel('residuals')\n",
    "plt.xlabel('predicted values')"
   ]
  },
  {
   "cell_type": "markdown",
   "metadata": {},
   "source": [
    "PROBABILITY NORM PLOT"
   ]
  },
  {
   "cell_type": "code",
   "execution_count": 26,
   "metadata": {},
   "outputs": [
    {
     "data": {
      "image/png": "[encoded data removed]",
      "text/plain": [
       "<matplotlib.figure.Figure at 0x14aa7dbbc18>"
      ]
     },
     "metadata": {},
     "output_type": "display_data"
    }
   ],
   "source": [
    "import scipy.stats as st\n",
    "st.probplot(predictions-y_test, dist='norm',plot=plt)\n",
    "plt.show()"
   ]
  },
  {
   "cell_type": "markdown",
   "metadata": {},
   "source": [
    "**Model assumptions:**\n",
    "1) linearity: the model is linear in nature as you can see from the above graph\n",
    "    that the values are symmetrical to the line of regression hence sulfilling the \n",
    "    assumption\n",
    "    \n",
    "2) violation of independence is also satisified in this case as the graph\n",
    "Independence can also be violated in non-time-series models if errors tend to always have the same sign under particular conditions, which is not evident from the residual plot\n",
    "\n",
    "3) homoscedasticity is also satisfied from the above graph as the values are \n",
    "in proportion with the function of the predicted values, very few values are out of range\n",
    "\n",
    "4) violations of normality is also satisfied since the values in the above graph are very close to the fit line"
   ]
  },
  {
   "cell_type": "markdown",
   "metadata": {},
   "source": [
    "a. LoanAmount vs ApplicantIncome   (0.59)"
   ]
  },
  {
   "cell_type": "code",
   "execution_count": 27,
   "metadata": {},
   "outputs": [
    {
     "name": "stderr",
     "output_type": "stream",
     "text": [
      "C:\\Program Files (x86)\\Microsoft Visual Studio\\Shared\\Anaconda3_64\\lib\\site-packages\\statsmodels\\compat\\pandas.py:56: FutureWarning: The pandas.core.datetools module is deprecated and will be removed in a future version. Please use the pandas.tseries module instead.\n",
      "  from pandas.core import datetools\n"
     ]
    },
    {
     "name": "stdout",
     "output_type": "stream",
     "text": [
      "Parameters:  ApplicantIncome    0.015514\n",
      "dtype: float64\n",
      "R2:  0.590214353386\n"
     ]
    }
   ],
   "source": [
    "import statsmodels.api as sm\n",
    "\n",
    "xa = dataset2[[\"ApplicantIncome\"]]\n",
    "ya = dataset2[\"LoanAmount\"]\n",
    "model = sm.OLS(ya, xa)\n",
    "results = model.fit()\n",
    "print('Parameters: ', results.params)\n",
    "print('R2: ', results.rsquared)"
   ]
  },
  {
   "cell_type": "code",
   "execution_count": 28,
   "metadata": {},
   "outputs": [
    {
     "data": {
      "text/html": [
       "<table class=\"simpletable\">\n",
       "<caption>OLS Regression Results</caption>\n",
       "<tr>\n",
       "  <th>Dep. Variable:</th>       <td>LoanAmount</td>    <th>  R-squared:         </th> <td>   0.590</td> \n",
       "</tr>\n",
       "<tr>\n",
       "  <th>Model:</th>                   <td>OLS</td>       <th>  Adj. R-squared:    </th> <td>   0.590</td> \n",
       "</tr>\n",
       "<tr>\n",
       "  <th>Method:</th>             <td>Least Squares</td>  <th>  F-statistic:       </th> <td>   4396.</td> \n",
       "</tr>\n",
       "<tr>\n",
       "  <th>Date:</th>             <td>Thu, 22 Feb 2018</td> <th>  Prob (F-statistic):</th>  <td>  0.00</td>  \n",
       "</tr>\n",
       "<tr>\n",
       "  <th>Time:</th>                 <td>15:01:43</td>     <th>  Log-Likelihood:    </th> <td> -18564.</td> \n",
       "</tr>\n",
       "<tr>\n",
       "  <th>No. Observations:</th>      <td>  3053</td>      <th>  AIC:               </th> <td>3.713e+04</td>\n",
       "</tr>\n",
       "<tr>\n",
       "  <th>Df Residuals:</th>          <td>  3052</td>      <th>  BIC:               </th> <td>3.714e+04</td>\n",
       "</tr>\n",
       "<tr>\n",
       "  <th>Df Model:</th>              <td>     1</td>      <th>                     </th>     <td> </td>    \n",
       "</tr>\n",
       "<tr>\n",
       "  <th>Covariance Type:</th>      <td>nonrobust</td>    <th>                     </th>     <td> </td>    \n",
       "</tr>\n",
       "</table>\n",
       "<table class=\"simpletable\">\n",
       "<tr>\n",
       "         <td></td>            <th>coef</th>     <th>std err</th>      <th>t</th>      <th>P>|t|</th>  <th>[0.025</th>    <th>0.975]</th>  \n",
       "</tr>\n",
       "<tr>\n",
       "  <th>ApplicantIncome</th> <td>    0.0155</td> <td>    0.000</td> <td>   66.301</td> <td> 0.000</td> <td>    0.015</td> <td>    0.016</td>\n",
       "</tr>\n",
       "</table>\n",
       "<table class=\"simpletable\">\n",
       "<tr>\n",
       "  <th>Omnibus:</th>       <td>2465.444</td> <th>  Durbin-Watson:     </th>  <td>   1.384</td> \n",
       "</tr>\n",
       "<tr>\n",
       "  <th>Prob(Omnibus):</th>  <td> 0.000</td>  <th>  Jarque-Bera (JB):  </th> <td>130983.522</td>\n",
       "</tr>\n",
       "<tr>\n",
       "  <th>Skew:</th>           <td>-3.424</td>  <th>  Prob(JB):          </th>  <td>    0.00</td> \n",
       "</tr>\n",
       "<tr>\n",
       "  <th>Kurtosis:</th>       <td>34.349</td>  <th>  Cond. No.          </th>  <td>    1.00</td> \n",
       "</tr>\n",
       "</table>"
      ],
      "text/plain": [
       "<class 'statsmodels.iolib.summary.Summary'>\n",
       "\"\"\"\n",
       "                            OLS Regression Results                            \n",
       "==============================================================================\n",
       "Dep. Variable:             LoanAmount   R-squared:                       0.590\n",
       "Model:                            OLS   Adj. R-squared:                  0.590\n",
       "Method:                 Least Squares   F-statistic:                     4396.\n",
       "Date:                Thu, 22 Feb 2018   Prob (F-statistic):               0.00\n",
       "Time:                        15:01:43   Log-Likelihood:                -18564.\n",
       "No. Observations:                3053   AIC:                         3.713e+04\n",
       "Df Residuals:                    3052   BIC:                         3.714e+04\n",
       "Df Model:                           1                                         \n",
       "Covariance Type:            nonrobust                                         \n",
       "===================================================================================\n",
       "                      coef    std err          t      P>|t|      [0.025      0.975]\n",
       "-----------------------------------------------------------------------------------\n",
       "ApplicantIncome     0.0155      0.000     66.301      0.000       0.015       0.016\n",
       "==============================================================================\n",
       "Omnibus:                     2465.444   Durbin-Watson:                   1.384\n",
       "Prob(Omnibus):                  0.000   Jarque-Bera (JB):           130983.522\n",
       "Skew:                          -3.424   Prob(JB):                         0.00\n",
       "Kurtosis:                      34.349   Cond. No.                         1.00\n",
       "==============================================================================\n",
       "\n",
       "Warnings:\n",
       "[1] Standard Errors assume that the covariance matrix of the errors is correctly specified.\n",
       "\"\"\""
      ]
     },
     "execution_count": 28,
     "metadata": {},
     "output_type": "execute_result"
    }
   ],
   "source": [
    "results.summary()"
   ]
  },
  {
   "cell_type": "markdown",
   "metadata": {},
   "source": [
    "b. LoanAmount vs Credit_History (0.55)"
   ]
  },
  {
   "cell_type": "code",
   "execution_count": 29,
   "metadata": {},
   "outputs": [
    {
     "name": "stdout",
     "output_type": "stream",
     "text": [
      "Parameters:  Credit_History    138.870968\n",
      "dtype: float64\n",
      "R2:  0.552052252149\n"
     ]
    }
   ],
   "source": [
    "xb = dataset2[[\"Credit_History\"]]\n",
    "yb = dataset2[\"LoanAmount\"]\n",
    "model = sm.OLS(yb, xb)\n",
    "results2 = model.fit()\n",
    "print('Parameters: ', results2.params)\n",
    "print('R2: ', results2.rsquared)"
   ]
  },
  {
   "cell_type": "code",
   "execution_count": 30,
   "metadata": {},
   "outputs": [
    {
     "data": {
      "text/html": [
       "<table class=\"simpletable\">\n",
       "<caption>OLS Regression Results</caption>\n",
       "<tr>\n",
       "  <th>Dep. Variable:</th>       <td>LoanAmount</td>    <th>  R-squared:         </th> <td>   0.552</td> \n",
       "</tr>\n",
       "<tr>\n",
       "  <th>Model:</th>                   <td>OLS</td>       <th>  Adj. R-squared:    </th> <td>   0.552</td> \n",
       "</tr>\n",
       "<tr>\n",
       "  <th>Method:</th>             <td>Least Squares</td>  <th>  F-statistic:       </th> <td>   3761.</td> \n",
       "</tr>\n",
       "<tr>\n",
       "  <th>Date:</th>             <td>Thu, 22 Feb 2018</td> <th>  Prob (F-statistic):</th>  <td>  0.00</td>  \n",
       "</tr>\n",
       "<tr>\n",
       "  <th>Time:</th>                 <td>15:01:43</td>     <th>  Log-Likelihood:    </th> <td> -18699.</td> \n",
       "</tr>\n",
       "<tr>\n",
       "  <th>No. Observations:</th>      <td>  3053</td>      <th>  AIC:               </th> <td>3.740e+04</td>\n",
       "</tr>\n",
       "<tr>\n",
       "  <th>Df Residuals:</th>          <td>  3052</td>      <th>  BIC:               </th> <td>3.741e+04</td>\n",
       "</tr>\n",
       "<tr>\n",
       "  <th>Df Model:</th>              <td>     1</td>      <th>                     </th>     <td> </td>    \n",
       "</tr>\n",
       "<tr>\n",
       "  <th>Covariance Type:</th>      <td>nonrobust</td>    <th>                     </th>     <td> </td>    \n",
       "</tr>\n",
       "</table>\n",
       "<table class=\"simpletable\">\n",
       "<tr>\n",
       "         <td></td>           <th>coef</th>     <th>std err</th>      <th>t</th>      <th>P>|t|</th>  <th>[0.025</th>    <th>0.975]</th>  \n",
       "</tr>\n",
       "<tr>\n",
       "  <th>Credit_History</th> <td>  138.8710</td> <td>    2.264</td> <td>   61.329</td> <td> 0.000</td> <td>  134.431</td> <td>  143.311</td>\n",
       "</tr>\n",
       "</table>\n",
       "<table class=\"simpletable\">\n",
       "<tr>\n",
       "  <th>Omnibus:</th>       <td>1002.357</td> <th>  Durbin-Watson:     </th> <td>   1.840</td>\n",
       "</tr>\n",
       "<tr>\n",
       "  <th>Prob(Omnibus):</th>  <td> 0.000</td>  <th>  Jarque-Bera (JB):  </th> <td>3861.631</td>\n",
       "</tr>\n",
       "<tr>\n",
       "  <th>Skew:</th>           <td> 1.587</td>  <th>  Prob(JB):          </th> <td>    0.00</td>\n",
       "</tr>\n",
       "<tr>\n",
       "  <th>Kurtosis:</th>       <td> 7.504</td>  <th>  Cond. No.          </th> <td>    1.00</td>\n",
       "</tr>\n",
       "</table>"
      ],
      "text/plain": [
       "<class 'statsmodels.iolib.summary.Summary'>\n",
       "\"\"\"\n",
       "                            OLS Regression Results                            \n",
       "==============================================================================\n",
       "Dep. Variable:             LoanAmount   R-squared:                       0.552\n",
       "Model:                            OLS   Adj. R-squared:                  0.552\n",
       "Method:                 Least Squares   F-statistic:                     3761.\n",
       "Date:                Thu, 22 Feb 2018   Prob (F-statistic):               0.00\n",
       "Time:                        15:01:43   Log-Likelihood:                -18699.\n",
       "No. Observations:                3053   AIC:                         3.740e+04\n",
       "Df Residuals:                    3052   BIC:                         3.741e+04\n",
       "Df Model:                           1                                         \n",
       "Covariance Type:            nonrobust                                         \n",
       "==================================================================================\n",
       "                     coef    std err          t      P>|t|      [0.025      0.975]\n",
       "----------------------------------------------------------------------------------\n",
       "Credit_History   138.8710      2.264     61.329      0.000     134.431     143.311\n",
       "==============================================================================\n",
       "Omnibus:                     1002.357   Durbin-Watson:                   1.840\n",
       "Prob(Omnibus):                  0.000   Jarque-Bera (JB):             3861.631\n",
       "Skew:                           1.587   Prob(JB):                         0.00\n",
       "Kurtosis:                       7.504   Cond. No.                         1.00\n",
       "==============================================================================\n",
       "\n",
       "Warnings:\n",
       "[1] Standard Errors assume that the covariance matrix of the errors is correctly specified.\n",
       "\"\"\""
      ]
     },
     "execution_count": 30,
     "metadata": {},
     "output_type": "execute_result"
    }
   ],
   "source": [
    "results2.summary()"
   ]
  },
  {
   "cell_type": "markdown",
   "metadata": {},
   "source": [
    "c. LoanAmount vs Loan_Amount_Term  (0.68)"
   ]
  },
  {
   "cell_type": "code",
   "execution_count": 31,
   "metadata": {},
   "outputs": [
    {
     "name": "stdout",
     "output_type": "stream",
     "text": [
      "Parameters:  Loan_Amount_Term    0.396665\n",
      "dtype: float64\n",
      "R2:  0.683753337291\n"
     ]
    }
   ],
   "source": [
    "x = dataset2[[\"Loan_Amount_Term\"]]\n",
    "y = dataset2[\"LoanAmount\"]\n",
    "model = sm.OLS(y, x)\n",
    "results3 = model.fit()\n",
    "print('Parameters: ', results3.params)\n",
    "print('R2: ', results3.rsquared)"
   ]
  },
  {
   "cell_type": "code",
   "execution_count": 32,
   "metadata": {},
   "outputs": [
    {
     "data": {
      "text/html": [
       "<table class=\"simpletable\">\n",
       "<caption>OLS Regression Results</caption>\n",
       "<tr>\n",
       "  <th>Dep. Variable:</th>       <td>LoanAmount</td>    <th>  R-squared:         </th> <td>   0.684</td> \n",
       "</tr>\n",
       "<tr>\n",
       "  <th>Model:</th>                   <td>OLS</td>       <th>  Adj. R-squared:    </th> <td>   0.684</td> \n",
       "</tr>\n",
       "<tr>\n",
       "  <th>Method:</th>             <td>Least Squares</td>  <th>  F-statistic:       </th> <td>   6599.</td> \n",
       "</tr>\n",
       "<tr>\n",
       "  <th>Date:</th>             <td>Thu, 22 Feb 2018</td> <th>  Prob (F-statistic):</th>  <td>  0.00</td>  \n",
       "</tr>\n",
       "<tr>\n",
       "  <th>Time:</th>                 <td>15:01:43</td>     <th>  Log-Likelihood:    </th> <td> -18168.</td> \n",
       "</tr>\n",
       "<tr>\n",
       "  <th>No. Observations:</th>      <td>  3053</td>      <th>  AIC:               </th> <td>3.634e+04</td>\n",
       "</tr>\n",
       "<tr>\n",
       "  <th>Df Residuals:</th>          <td>  3052</td>      <th>  BIC:               </th> <td>3.634e+04</td>\n",
       "</tr>\n",
       "<tr>\n",
       "  <th>Df Model:</th>              <td>     1</td>      <th>                     </th>     <td> </td>    \n",
       "</tr>\n",
       "<tr>\n",
       "  <th>Covariance Type:</th>      <td>nonrobust</td>    <th>                     </th>     <td> </td>    \n",
       "</tr>\n",
       "</table>\n",
       "<table class=\"simpletable\">\n",
       "<tr>\n",
       "          <td></td>            <th>coef</th>     <th>std err</th>      <th>t</th>      <th>P>|t|</th>  <th>[0.025</th>    <th>0.975]</th>  \n",
       "</tr>\n",
       "<tr>\n",
       "  <th>Loan_Amount_Term</th> <td>    0.3967</td> <td>    0.005</td> <td>   81.232</td> <td> 0.000</td> <td>    0.387</td> <td>    0.406</td>\n",
       "</tr>\n",
       "</table>\n",
       "<table class=\"simpletable\">\n",
       "<tr>\n",
       "  <th>Omnibus:</th>       <td>1280.720</td> <th>  Durbin-Watson:     </th> <td>   2.059</td>\n",
       "</tr>\n",
       "<tr>\n",
       "  <th>Prob(Omnibus):</th>  <td> 0.000</td>  <th>  Jarque-Bera (JB):  </th> <td>7114.925</td>\n",
       "</tr>\n",
       "<tr>\n",
       "  <th>Skew:</th>           <td> 1.931</td>  <th>  Prob(JB):          </th> <td>    0.00</td>\n",
       "</tr>\n",
       "<tr>\n",
       "  <th>Kurtosis:</th>       <td> 9.405</td>  <th>  Cond. No.          </th> <td>    1.00</td>\n",
       "</tr>\n",
       "</table>"
      ],
      "text/plain": [
       "<class 'statsmodels.iolib.summary.Summary'>\n",
       "\"\"\"\n",
       "                            OLS Regression Results                            \n",
       "==============================================================================\n",
       "Dep. Variable:             LoanAmount   R-squared:                       0.684\n",
       "Model:                            OLS   Adj. R-squared:                  0.684\n",
       "Method:                 Least Squares   F-statistic:                     6599.\n",
       "Date:                Thu, 22 Feb 2018   Prob (F-statistic):               0.00\n",
       "Time:                        15:01:43   Log-Likelihood:                -18168.\n",
       "No. Observations:                3053   AIC:                         3.634e+04\n",
       "Df Residuals:                    3052   BIC:                         3.634e+04\n",
       "Df Model:                           1                                         \n",
       "Covariance Type:            nonrobust                                         \n",
       "====================================================================================\n",
       "                       coef    std err          t      P>|t|      [0.025      0.975]\n",
       "------------------------------------------------------------------------------------\n",
       "Loan_Amount_Term     0.3967      0.005     81.232      0.000       0.387       0.406\n",
       "==============================================================================\n",
       "Omnibus:                     1280.720   Durbin-Watson:                   2.059\n",
       "Prob(Omnibus):                  0.000   Jarque-Bera (JB):             7114.925\n",
       "Skew:                           1.931   Prob(JB):                         0.00\n",
       "Kurtosis:                       9.405   Cond. No.                         1.00\n",
       "==============================================================================\n",
       "\n",
       "Warnings:\n",
       "[1] Standard Errors assume that the covariance matrix of the errors is correctly specified.\n",
       "\"\"\""
      ]
     },
     "execution_count": 32,
     "metadata": {},
     "output_type": "execute_result"
    }
   ],
   "source": [
    "results3.summary()"
   ]
  },
  {
   "cell_type": "markdown",
   "metadata": {},
   "source": [
    "**Rank the most significant predictor variables**"
   ]
  },
  {
   "cell_type": "markdown",
   "metadata": {},
   "source": [
    "Now, we have individually modelled the highly correlated columns to the price and got the R-Squared value for their linear models.\n",
    "\n",
    "As per the observation, the highest R-square value was observed when the predictor \"Loan_Amount_Term\" was used (0.68).\n",
    "\n",
    "Hence now to further move ahead, we will choose the model with Loan_Amount_Term and keep adding new predictors to it and analyze the results"
   ]
  },
  {
   "cell_type": "markdown",
   "metadata": {},
   "source": [
    "Adding other columns to the given simple linear model:\n",
    "\n",
    "a. Coapplicant Income (0.70)"
   ]
  },
  {
   "cell_type": "code",
   "execution_count": 33,
   "metadata": {},
   "outputs": [
    {
     "name": "stdout",
     "output_type": "stream",
     "text": [
      "Parameters:  Loan_Amount_Term     0.356486\n",
      "CoapplicantIncome    0.008846\n",
      "dtype: float64\n",
      "R2:  0.704578576479\n"
     ]
    }
   ],
   "source": [
    "X = dataset2[[\"Loan_Amount_Term\", \"CoapplicantIncome\"]]\n",
    "y = dataset2[\"LoanAmount\"]\n",
    "model = sm.OLS(y, X)\n",
    "results = model.fit()\n",
    "print('Parameters: ', results.params)\n",
    "print('R2: ', results.rsquared)"
   ]
  },
  {
   "cell_type": "code",
   "execution_count": 34,
   "metadata": {},
   "outputs": [
    {
     "data": {
      "text/html": [
       "<table class=\"simpletable\">\n",
       "<caption>OLS Regression Results</caption>\n",
       "<tr>\n",
       "  <th>Dep. Variable:</th>       <td>LoanAmount</td>    <th>  R-squared:         </th> <td>   0.705</td> \n",
       "</tr>\n",
       "<tr>\n",
       "  <th>Model:</th>                   <td>OLS</td>       <th>  Adj. R-squared:    </th> <td>   0.704</td> \n",
       "</tr>\n",
       "<tr>\n",
       "  <th>Method:</th>             <td>Least Squares</td>  <th>  F-statistic:       </th> <td>   3638.</td> \n",
       "</tr>\n",
       "<tr>\n",
       "  <th>Date:</th>             <td>Thu, 22 Feb 2018</td> <th>  Prob (F-statistic):</th>  <td>  0.00</td>  \n",
       "</tr>\n",
       "<tr>\n",
       "  <th>Time:</th>                 <td>15:01:43</td>     <th>  Log-Likelihood:    </th> <td> -18064.</td> \n",
       "</tr>\n",
       "<tr>\n",
       "  <th>No. Observations:</th>      <td>  3053</td>      <th>  AIC:               </th> <td>3.613e+04</td>\n",
       "</tr>\n",
       "<tr>\n",
       "  <th>Df Residuals:</th>          <td>  3051</td>      <th>  BIC:               </th> <td>3.614e+04</td>\n",
       "</tr>\n",
       "<tr>\n",
       "  <th>Df Model:</th>              <td>     2</td>      <th>                     </th>     <td> </td>    \n",
       "</tr>\n",
       "<tr>\n",
       "  <th>Covariance Type:</th>      <td>nonrobust</td>    <th>                     </th>     <td> </td>    \n",
       "</tr>\n",
       "</table>\n",
       "<table class=\"simpletable\">\n",
       "<tr>\n",
       "          <td></td>             <th>coef</th>     <th>std err</th>      <th>t</th>      <th>P>|t|</th>  <th>[0.025</th>    <th>0.975]</th>  \n",
       "</tr>\n",
       "<tr>\n",
       "  <th>Loan_Amount_Term</th>  <td>    0.3565</td> <td>    0.005</td> <td>   65.316</td> <td> 0.000</td> <td>    0.346</td> <td>    0.367</td>\n",
       "</tr>\n",
       "<tr>\n",
       "  <th>CoapplicantIncome</th> <td>    0.0088</td> <td>    0.001</td> <td>   14.665</td> <td> 0.000</td> <td>    0.008</td> <td>    0.010</td>\n",
       "</tr>\n",
       "</table>\n",
       "<table class=\"simpletable\">\n",
       "<tr>\n",
       "  <th>Omnibus:</th>       <td>1358.333</td> <th>  Durbin-Watson:     </th> <td>   2.034</td>\n",
       "</tr>\n",
       "<tr>\n",
       "  <th>Prob(Omnibus):</th>  <td> 0.000</td>  <th>  Jarque-Bera (JB):  </th> <td>9533.780</td>\n",
       "</tr>\n",
       "<tr>\n",
       "  <th>Skew:</th>           <td> 1.977</td>  <th>  Prob(JB):          </th> <td>    0.00</td>\n",
       "</tr>\n",
       "<tr>\n",
       "  <th>Kurtosis:</th>       <td>10.701</td>  <th>  Cond. No.          </th> <td>    10.5</td>\n",
       "</tr>\n",
       "</table>"
      ],
      "text/plain": [
       "<class 'statsmodels.iolib.summary.Summary'>\n",
       "\"\"\"\n",
       "                            OLS Regression Results                            \n",
       "==============================================================================\n",
       "Dep. Variable:             LoanAmount   R-squared:                       0.705\n",
       "Model:                            OLS   Adj. R-squared:                  0.704\n",
       "Method:                 Least Squares   F-statistic:                     3638.\n",
       "Date:                Thu, 22 Feb 2018   Prob (F-statistic):               0.00\n",
       "Time:                        15:01:43   Log-Likelihood:                -18064.\n",
       "No. Observations:                3053   AIC:                         3.613e+04\n",
       "Df Residuals:                    3051   BIC:                         3.614e+04\n",
       "Df Model:                           2                                         \n",
       "Covariance Type:            nonrobust                                         \n",
       "=====================================================================================\n",
       "                        coef    std err          t      P>|t|      [0.025      0.975]\n",
       "-------------------------------------------------------------------------------------\n",
       "Loan_Amount_Term      0.3565      0.005     65.316      0.000       0.346       0.367\n",
       "CoapplicantIncome     0.0088      0.001     14.665      0.000       0.008       0.010\n",
       "==============================================================================\n",
       "Omnibus:                     1358.333   Durbin-Watson:                   2.034\n",
       "Prob(Omnibus):                  0.000   Jarque-Bera (JB):             9533.780\n",
       "Skew:                           1.977   Prob(JB):                         0.00\n",
       "Kurtosis:                      10.701   Cond. No.                         10.5\n",
       "==============================================================================\n",
       "\n",
       "Warnings:\n",
       "[1] Standard Errors assume that the covariance matrix of the errors is correctly specified.\n",
       "\"\"\""
      ]
     },
     "execution_count": 34,
     "metadata": {},
     "output_type": "execute_result"
    }
   ],
   "source": [
    "results.summary()"
   ]
  },
  {
   "cell_type": "markdown",
   "metadata": {},
   "source": [
    "b.  ApplicantIncome (0.78)"
   ]
  },
  {
   "cell_type": "code",
   "execution_count": 35,
   "metadata": {},
   "outputs": [
    {
     "name": "stdout",
     "output_type": "stream",
     "text": [
      "Parameters:  ApplicantIncome     0.008185\n",
      "Loan_Amount_Term    0.272392\n",
      "dtype: float64\n",
      "R2:  0.780945162096\n"
     ]
    }
   ],
   "source": [
    "X = dataset2[[\"ApplicantIncome\", \"Loan_Amount_Term\"]]\n",
    "y = dataset2[\"LoanAmount\"]\n",
    "model = sm.OLS(y, X)\n",
    "results = model.fit()\n",
    "print('Parameters: ', results.params)\n",
    "print('R2: ', results.rsquared)"
   ]
  },
  {
   "cell_type": "code",
   "execution_count": 36,
   "metadata": {},
   "outputs": [
    {
     "data": {
      "text/html": [
       "<table class=\"simpletable\">\n",
       "<caption>OLS Regression Results</caption>\n",
       "<tr>\n",
       "  <th>Dep. Variable:</th>       <td>LoanAmount</td>    <th>  R-squared:         </th> <td>   0.781</td> \n",
       "</tr>\n",
       "<tr>\n",
       "  <th>Model:</th>                   <td>OLS</td>       <th>  Adj. R-squared:    </th> <td>   0.781</td> \n",
       "</tr>\n",
       "<tr>\n",
       "  <th>Method:</th>             <td>Least Squares</td>  <th>  F-statistic:       </th> <td>   5439.</td> \n",
       "</tr>\n",
       "<tr>\n",
       "  <th>Date:</th>             <td>Thu, 22 Feb 2018</td> <th>  Prob (F-statistic):</th>  <td>  0.00</td>  \n",
       "</tr>\n",
       "<tr>\n",
       "  <th>Time:</th>                 <td>15:01:43</td>     <th>  Log-Likelihood:    </th> <td> -17608.</td> \n",
       "</tr>\n",
       "<tr>\n",
       "  <th>No. Observations:</th>      <td>  3053</td>      <th>  AIC:               </th> <td>3.522e+04</td>\n",
       "</tr>\n",
       "<tr>\n",
       "  <th>Df Residuals:</th>          <td>  3051</td>      <th>  BIC:               </th> <td>3.523e+04</td>\n",
       "</tr>\n",
       "<tr>\n",
       "  <th>Df Model:</th>              <td>     2</td>      <th>                     </th>     <td> </td>    \n",
       "</tr>\n",
       "<tr>\n",
       "  <th>Covariance Type:</th>      <td>nonrobust</td>    <th>                     </th>     <td> </td>    \n",
       "</tr>\n",
       "</table>\n",
       "<table class=\"simpletable\">\n",
       "<tr>\n",
       "          <td></td>            <th>coef</th>     <th>std err</th>      <th>t</th>      <th>P>|t|</th>  <th>[0.025</th>    <th>0.975]</th>  \n",
       "</tr>\n",
       "<tr>\n",
       "  <th>ApplicantIncome</th>  <td>    0.0082</td> <td>    0.000</td> <td>   36.793</td> <td> 0.000</td> <td>    0.008</td> <td>    0.009</td>\n",
       "</tr>\n",
       "<tr>\n",
       "  <th>Loan_Amount_Term</th> <td>    0.2724</td> <td>    0.005</td> <td>   51.541</td> <td> 0.000</td> <td>    0.262</td> <td>    0.283</td>\n",
       "</tr>\n",
       "</table>\n",
       "<table class=\"simpletable\">\n",
       "<tr>\n",
       "  <th>Omnibus:</th>       <td>466.812</td> <th>  Durbin-Watson:     </th> <td>   2.003</td>\n",
       "</tr>\n",
       "<tr>\n",
       "  <th>Prob(Omnibus):</th> <td> 0.000</td>  <th>  Jarque-Bera (JB):  </th> <td>3111.449</td>\n",
       "</tr>\n",
       "<tr>\n",
       "  <th>Skew:</th>          <td> 0.546</td>  <th>  Prob(JB):          </th> <td>    0.00</td>\n",
       "</tr>\n",
       "<tr>\n",
       "  <th>Kurtosis:</th>      <td> 7.823</td>  <th>  Cond. No.          </th> <td>    30.9</td>\n",
       "</tr>\n",
       "</table>"
      ],
      "text/plain": [
       "<class 'statsmodels.iolib.summary.Summary'>\n",
       "\"\"\"\n",
       "                            OLS Regression Results                            \n",
       "==============================================================================\n",
       "Dep. Variable:             LoanAmount   R-squared:                       0.781\n",
       "Model:                            OLS   Adj. R-squared:                  0.781\n",
       "Method:                 Least Squares   F-statistic:                     5439.\n",
       "Date:                Thu, 22 Feb 2018   Prob (F-statistic):               0.00\n",
       "Time:                        15:01:43   Log-Likelihood:                -17608.\n",
       "No. Observations:                3053   AIC:                         3.522e+04\n",
       "Df Residuals:                    3051   BIC:                         3.523e+04\n",
       "Df Model:                           2                                         \n",
       "Covariance Type:            nonrobust                                         \n",
       "====================================================================================\n",
       "                       coef    std err          t      P>|t|      [0.025      0.975]\n",
       "------------------------------------------------------------------------------------\n",
       "ApplicantIncome      0.0082      0.000     36.793      0.000       0.008       0.009\n",
       "Loan_Amount_Term     0.2724      0.005     51.541      0.000       0.262       0.283\n",
       "==============================================================================\n",
       "Omnibus:                      466.812   Durbin-Watson:                   2.003\n",
       "Prob(Omnibus):                  0.000   Jarque-Bera (JB):             3111.449\n",
       "Skew:                           0.546   Prob(JB):                         0.00\n",
       "Kurtosis:                       7.823   Cond. No.                         30.9\n",
       "==============================================================================\n",
       "\n",
       "Warnings:\n",
       "[1] Standard Errors assume that the covariance matrix of the errors is correctly specified.\n",
       "\"\"\""
      ]
     },
     "execution_count": 36,
     "metadata": {},
     "output_type": "execute_result"
    }
   ],
   "source": [
    "results.summary()"
   ]
  },
  {
   "cell_type": "markdown",
   "metadata": {},
   "source": [
    "**Multi-colinearity in the model**"
   ]
  },
  {
   "cell_type": "markdown",
   "metadata": {},
   "source": [
    "In order to know the multi-colinearity in model, we use VIF(Variance Inflation Factor)"
   ]
  },
  {
   "cell_type": "code",
   "execution_count": 37,
   "metadata": {},
   "outputs": [
    {
     "name": "stdout",
     "output_type": "stream",
     "text": [
      "   VIF Factor           Features\n",
      "0         1.7    ApplicantIncome\n",
      "1         1.3  CoapplicantIncome\n",
      "2         2.1   Loan_Amount_Term\n"
     ]
    }
   ],
   "source": [
    "from statsmodels.stats.outliers_influence import variance_inflation_factor as vif\n",
    "#Split dependent and Independent variables\n",
    "\n",
    "X = dataset2[[\"ApplicantIncome\",\"CoapplicantIncome\", \"Loan_Amount_Term\"]]\n",
    "y = dataset2[\"LoanAmount\"]\n",
    "\n",
    "VIF = pd.DataFrame()\n",
    "VIF[\"VIF Factor\"] = [vif(X.values, i) for i in range(X.shape[1])]\n",
    "VIF[\"Features\"] = X.columns\n",
    "\n",
    "print(VIF.round(1))"
   ]
  },
  {
   "cell_type": "markdown",
   "metadata": {},
   "source": [
    "Since none of the vif values are more than 4, there is no multi-colinearity in the model"
   ]
  },
  {
   "cell_type": "markdown",
   "metadata": {},
   "source": [
    "**Multiple Regression predictor variables**"
   ]
  },
  {
   "cell_type": "markdown",
   "metadata": {},
   "source": [
    "Compare Reg coeff, p-values and Change in R2 when insignificant predictor is removed.\n",
    "    The p-values and the coeff can be compared as the measure of each predictor is same. Otherwise would have to scale the predictor values and then compare coeff.\n",
    " considering the coeff values from the summary we can remove the \n",
    " independent variables which have the least coef values making them insignificant"
   ]
  },
  {
   "cell_type": "code",
   "execution_count": 38,
   "metadata": {},
   "outputs": [
    {
     "name": "stdout",
     "output_type": "stream",
     "text": [
      "(2137, 4) (2137,)\n",
      "(916, 4) (916,)\n"
     ]
    },
    {
     "data": {
      "text/html": [
       "<table class=\"simpletable\">\n",
       "<caption>OLS Regression Results</caption>\n",
       "<tr>\n",
       "  <th>Dep. Variable:</th>       <td>LoanAmount</td>    <th>  R-squared:         </th> <td>   0.809</td> \n",
       "</tr>\n",
       "<tr>\n",
       "  <th>Model:</th>                   <td>OLS</td>       <th>  Adj. R-squared:    </th> <td>   0.808</td> \n",
       "</tr>\n",
       "<tr>\n",
       "  <th>Method:</th>             <td>Least Squares</td>  <th>  F-statistic:       </th> <td>   2256.</td> \n",
       "</tr>\n",
       "<tr>\n",
       "  <th>Date:</th>             <td>Thu, 22 Feb 2018</td> <th>  Prob (F-statistic):</th>  <td>  0.00</td>  \n",
       "</tr>\n",
       "<tr>\n",
       "  <th>Time:</th>                 <td>15:01:43</td>     <th>  Log-Likelihood:    </th> <td> -12215.</td> \n",
       "</tr>\n",
       "<tr>\n",
       "  <th>No. Observations:</th>      <td>  2137</td>      <th>  AIC:               </th> <td>2.444e+04</td>\n",
       "</tr>\n",
       "<tr>\n",
       "  <th>Df Residuals:</th>          <td>  2133</td>      <th>  BIC:               </th> <td>2.446e+04</td>\n",
       "</tr>\n",
       "<tr>\n",
       "  <th>Df Model:</th>              <td>     4</td>      <th>                     </th>     <td> </td>    \n",
       "</tr>\n",
       "<tr>\n",
       "  <th>Covariance Type:</th>      <td>nonrobust</td>    <th>                     </th>     <td> </td>    \n",
       "</tr>\n",
       "</table>\n",
       "<table class=\"simpletable\">\n",
       "<tr>\n",
       "          <td></td>             <th>coef</th>     <th>std err</th>      <th>t</th>      <th>P>|t|</th>  <th>[0.025</th>    <th>0.975]</th>  \n",
       "</tr>\n",
       "<tr>\n",
       "  <th>ApplicantIncome</th>   <td>    0.0087</td> <td>    0.000</td> <td>   35.354</td> <td> 0.000</td> <td>    0.008</td> <td>    0.009</td>\n",
       "</tr>\n",
       "<tr>\n",
       "  <th>CoapplicantIncome</th> <td>    0.0102</td> <td>    0.001</td> <td>   18.071</td> <td> 0.000</td> <td>    0.009</td> <td>    0.011</td>\n",
       "</tr>\n",
       "<tr>\n",
       "  <th>Loan_Amount_Term</th>  <td>    0.1984</td> <td>    0.010</td> <td>   19.952</td> <td> 0.000</td> <td>    0.179</td> <td>    0.218</td>\n",
       "</tr>\n",
       "<tr>\n",
       "  <th>Credit_History</th>    <td>    9.6480</td> <td>    3.566</td> <td>    2.706</td> <td> 0.007</td> <td>    2.655</td> <td>   16.641</td>\n",
       "</tr>\n",
       "</table>\n",
       "<table class=\"simpletable\">\n",
       "<tr>\n",
       "  <th>Omnibus:</th>       <td>299.408</td> <th>  Durbin-Watson:     </th> <td>   2.095</td>\n",
       "</tr>\n",
       "<tr>\n",
       "  <th>Prob(Omnibus):</th> <td> 0.000</td>  <th>  Jarque-Bera (JB):  </th> <td>3698.371</td>\n",
       "</tr>\n",
       "<tr>\n",
       "  <th>Skew:</th>          <td> 0.154</td>  <th>  Prob(JB):          </th> <td>    0.00</td>\n",
       "</tr>\n",
       "<tr>\n",
       "  <th>Kurtosis:</th>      <td> 9.437</td>  <th>  Cond. No.          </th> <td>1.90e+04</td>\n",
       "</tr>\n",
       "</table>"
      ],
      "text/plain": [
       "<class 'statsmodels.iolib.summary.Summary'>\n",
       "\"\"\"\n",
       "                            OLS Regression Results                            \n",
       "==============================================================================\n",
       "Dep. Variable:             LoanAmount   R-squared:                       0.809\n",
       "Model:                            OLS   Adj. R-squared:                  0.808\n",
       "Method:                 Least Squares   F-statistic:                     2256.\n",
       "Date:                Thu, 22 Feb 2018   Prob (F-statistic):               0.00\n",
       "Time:                        15:01:43   Log-Likelihood:                -12215.\n",
       "No. Observations:                2137   AIC:                         2.444e+04\n",
       "Df Residuals:                    2133   BIC:                         2.446e+04\n",
       "Df Model:                           4                                         \n",
       "Covariance Type:            nonrobust                                         \n",
       "=====================================================================================\n",
       "                        coef    std err          t      P>|t|      [0.025      0.975]\n",
       "-------------------------------------------------------------------------------------\n",
       "ApplicantIncome       0.0087      0.000     35.354      0.000       0.008       0.009\n",
       "CoapplicantIncome     0.0102      0.001     18.071      0.000       0.009       0.011\n",
       "Loan_Amount_Term      0.1984      0.010     19.952      0.000       0.179       0.218\n",
       "Credit_History        9.6480      3.566      2.706      0.007       2.655      16.641\n",
       "==============================================================================\n",
       "Omnibus:                      299.408   Durbin-Watson:                   2.095\n",
       "Prob(Omnibus):                  0.000   Jarque-Bera (JB):             3698.371\n",
       "Skew:                           0.154   Prob(JB):                         0.00\n",
       "Kurtosis:                       9.437   Cond. No.                     1.90e+04\n",
       "==============================================================================\n",
       "\n",
       "Warnings:\n",
       "[1] Standard Errors assume that the covariance matrix of the errors is correctly specified.\n",
       "[2] The condition number is large, 1.9e+04. This might indicate that there are\n",
       "strong multicollinearity or other numerical problems.\n",
       "\"\"\""
      ]
     },
     "execution_count": 38,
     "metadata": {},
     "output_type": "execute_result"
    }
   ],
   "source": [
    "import statsmodels.api as sm\n",
    "\n",
    "x = dataset2[[\"ApplicantIncome\",\"CoapplicantIncome\", \"Loan_Amount_Term\",'Credit_History']]\n",
    "y = dataset2[\"LoanAmount\"]\n",
    "\n",
    "X_train, X_test, y_train, y_test = train_test_split(x, y, test_size=0.3)\n",
    "print (X_train.shape, y_train.shape)\n",
    "print (X_test.shape, y_test.shape)\n",
    "\n",
    "model = sm.OLS(y_train, X_train)\n",
    "result = model.fit()\n",
    "result.summary()"
   ]
  },
  {
   "cell_type": "code",
   "execution_count": 39,
   "metadata": {},
   "outputs": [
    {
     "name": "stdout",
     "output_type": "stream",
     "text": [
      "(2137, 3) (2137,)\n",
      "(916, 3) (916,)\n"
     ]
    },
    {
     "data": {
      "text/html": [
       "<table class=\"simpletable\">\n",
       "<caption>OLS Regression Results</caption>\n",
       "<tr>\n",
       "  <th>Dep. Variable:</th>       <td>LoanAmount</td>    <th>  R-squared:         </th> <td>   0.781</td> \n",
       "</tr>\n",
       "<tr>\n",
       "  <th>Model:</th>                   <td>OLS</td>       <th>  Adj. R-squared:    </th> <td>   0.781</td> \n",
       "</tr>\n",
       "<tr>\n",
       "  <th>Method:</th>             <td>Least Squares</td>  <th>  F-statistic:       </th> <td>   2540.</td> \n",
       "</tr>\n",
       "<tr>\n",
       "  <th>Date:</th>             <td>Thu, 22 Feb 2018</td> <th>  Prob (F-statistic):</th>  <td>  0.00</td>  \n",
       "</tr>\n",
       "<tr>\n",
       "  <th>Time:</th>                 <td>15:01:43</td>     <th>  Log-Likelihood:    </th> <td> -12321.</td> \n",
       "</tr>\n",
       "<tr>\n",
       "  <th>No. Observations:</th>      <td>  2137</td>      <th>  AIC:               </th> <td>2.465e+04</td>\n",
       "</tr>\n",
       "<tr>\n",
       "  <th>Df Residuals:</th>          <td>  2134</td>      <th>  BIC:               </th> <td>2.467e+04</td>\n",
       "</tr>\n",
       "<tr>\n",
       "  <th>Df Model:</th>              <td>     3</td>      <th>                     </th>     <td> </td>    \n",
       "</tr>\n",
       "<tr>\n",
       "  <th>Covariance Type:</th>      <td>nonrobust</td>    <th>                     </th>     <td> </td>    \n",
       "</tr>\n",
       "</table>\n",
       "<table class=\"simpletable\">\n",
       "<tr>\n",
       "          <td></td>            <th>coef</th>     <th>std err</th>      <th>t</th>      <th>P>|t|</th>  <th>[0.025</th>    <th>0.975]</th>  \n",
       "</tr>\n",
       "<tr>\n",
       "  <th>ApplicantIncome</th>  <td>    0.0086</td> <td>    0.000</td> <td>   30.315</td> <td> 0.000</td> <td>    0.008</td> <td>    0.009</td>\n",
       "</tr>\n",
       "<tr>\n",
       "  <th>Loan_Amount_Term</th> <td>    0.2438</td> <td>    0.010</td> <td>   23.851</td> <td> 0.000</td> <td>    0.224</td> <td>    0.264</td>\n",
       "</tr>\n",
       "<tr>\n",
       "  <th>Credit_History</th>   <td>    9.8755</td> <td>    3.788</td> <td>    2.607</td> <td> 0.009</td> <td>    2.446</td> <td>   17.305</td>\n",
       "</tr>\n",
       "</table>\n",
       "<table class=\"simpletable\">\n",
       "<tr>\n",
       "  <th>Omnibus:</th>       <td>306.947</td> <th>  Durbin-Watson:     </th> <td>   2.061</td>\n",
       "</tr>\n",
       "<tr>\n",
       "  <th>Prob(Omnibus):</th> <td> 0.000</td>  <th>  Jarque-Bera (JB):  </th> <td>2367.095</td>\n",
       "</tr>\n",
       "<tr>\n",
       "  <th>Skew:</th>          <td> 0.434</td>  <th>  Prob(JB):          </th> <td>    0.00</td>\n",
       "</tr>\n",
       "<tr>\n",
       "  <th>Kurtosis:</th>      <td> 8.082</td>  <th>  Cond. No.          </th> <td>1.78e+04</td>\n",
       "</tr>\n",
       "</table>"
      ],
      "text/plain": [
       "<class 'statsmodels.iolib.summary.Summary'>\n",
       "\"\"\"\n",
       "                            OLS Regression Results                            \n",
       "==============================================================================\n",
       "Dep. Variable:             LoanAmount   R-squared:                       0.781\n",
       "Model:                            OLS   Adj. R-squared:                  0.781\n",
       "Method:                 Least Squares   F-statistic:                     2540.\n",
       "Date:                Thu, 22 Feb 2018   Prob (F-statistic):               0.00\n",
       "Time:                        15:01:43   Log-Likelihood:                -12321.\n",
       "No. Observations:                2137   AIC:                         2.465e+04\n",
       "Df Residuals:                    2134   BIC:                         2.467e+04\n",
       "Df Model:                           3                                         \n",
       "Covariance Type:            nonrobust                                         \n",
       "====================================================================================\n",
       "                       coef    std err          t      P>|t|      [0.025      0.975]\n",
       "------------------------------------------------------------------------------------\n",
       "ApplicantIncome      0.0086      0.000     30.315      0.000       0.008       0.009\n",
       "Loan_Amount_Term     0.2438      0.010     23.851      0.000       0.224       0.264\n",
       "Credit_History       9.8755      3.788      2.607      0.009       2.446      17.305\n",
       "==============================================================================\n",
       "Omnibus:                      306.947   Durbin-Watson:                   2.061\n",
       "Prob(Omnibus):                  0.000   Jarque-Bera (JB):             2367.095\n",
       "Skew:                           0.434   Prob(JB):                         0.00\n",
       "Kurtosis:                       8.082   Cond. No.                     1.78e+04\n",
       "==============================================================================\n",
       "\n",
       "Warnings:\n",
       "[1] Standard Errors assume that the covariance matrix of the errors is correctly specified.\n",
       "[2] The condition number is large, 1.78e+04. This might indicate that there are\n",
       "strong multicollinearity or other numerical problems.\n",
       "\"\"\""
      ]
     },
     "execution_count": 39,
     "metadata": {},
     "output_type": "execute_result"
    }
   ],
   "source": [
    "import statsmodels.api as sm\n",
    "\n",
    "x = dataset2[[\"ApplicantIncome\",\"Loan_Amount_Term\",\"Credit_History\"]]\n",
    "y = dataset2[\"LoanAmount\"]\n",
    "\n",
    "X_train, X_test, y_train, y_test = train_test_split(x, y, test_size=0.3)\n",
    "print (X_train.shape, y_train.shape)\n",
    "print (X_test.shape, y_test.shape)\n",
    "\n",
    "model = sm.OLS(y_train, X_train)\n",
    "result = model.fit()\n",
    "result.summary()"
   ]
  },
  {
   "cell_type": "markdown",
   "metadata": {},
   "source": [
    "As we can see above, after removing a variable, there is not much difference in the R2 value."
   ]
  },
  {
   "cell_type": "markdown",
   "metadata": {},
   "source": [
    "**Multiple Regression Model**"
   ]
  },
  {
   "cell_type": "markdown",
   "metadata": {
    "collapsed": true
   },
   "source": [
    "c. 3 independant values and 1 dependant value"
   ]
  },
  {
   "cell_type": "code",
   "execution_count": 40,
   "metadata": {},
   "outputs": [
    {
     "name": "stdout",
     "output_type": "stream",
     "text": [
      "Parameters:  ApplicantIncome      0.008510\n",
      "CoapplicantIncome    0.010308\n",
      "Loan_Amount_Term     0.220642\n",
      "dtype: float64\n",
      "R2:  0.809068603761\n"
     ]
    }
   ],
   "source": [
    "X = dataset2[[\"ApplicantIncome\",\"CoapplicantIncome\", \"Loan_Amount_Term\"]]\n",
    "y = dataset2[\"LoanAmount\"]\n",
    "model = sm.OLS(y, X)\n",
    "results = model.fit()\n",
    "print('Parameters: ', results.params)\n",
    "print('R2: ', results.rsquared)"
   ]
  },
  {
   "cell_type": "code",
   "execution_count": 41,
   "metadata": {},
   "outputs": [
    {
     "data": {
      "text/html": [
       "<table class=\"simpletable\">\n",
       "<caption>OLS Regression Results</caption>\n",
       "<tr>\n",
       "  <th>Dep. Variable:</th>       <td>LoanAmount</td>    <th>  R-squared:         </th> <td>   0.809</td> \n",
       "</tr>\n",
       "<tr>\n",
       "  <th>Model:</th>                   <td>OLS</td>       <th>  Adj. R-squared:    </th> <td>   0.809</td> \n",
       "</tr>\n",
       "<tr>\n",
       "  <th>Method:</th>             <td>Least Squares</td>  <th>  F-statistic:       </th> <td>   4308.</td> \n",
       "</tr>\n",
       "<tr>\n",
       "  <th>Date:</th>             <td>Thu, 22 Feb 2018</td> <th>  Prob (F-statistic):</th>  <td>  0.00</td>  \n",
       "</tr>\n",
       "<tr>\n",
       "  <th>Time:</th>                 <td>15:01:43</td>     <th>  Log-Likelihood:    </th> <td> -17398.</td> \n",
       "</tr>\n",
       "<tr>\n",
       "  <th>No. Observations:</th>      <td>  3053</td>      <th>  AIC:               </th> <td>3.480e+04</td>\n",
       "</tr>\n",
       "<tr>\n",
       "  <th>Df Residuals:</th>          <td>  3050</td>      <th>  BIC:               </th> <td>3.482e+04</td>\n",
       "</tr>\n",
       "<tr>\n",
       "  <th>Df Model:</th>              <td>     3</td>      <th>                     </th>     <td> </td>    \n",
       "</tr>\n",
       "<tr>\n",
       "  <th>Covariance Type:</th>      <td>nonrobust</td>    <th>                     </th>     <td> </td>    \n",
       "</tr>\n",
       "</table>\n",
       "<table class=\"simpletable\">\n",
       "<tr>\n",
       "          <td></td>             <th>coef</th>     <th>std err</th>      <th>t</th>      <th>P>|t|</th>  <th>[0.025</th>    <th>0.975]</th>  \n",
       "</tr>\n",
       "<tr>\n",
       "  <th>ApplicantIncome</th>   <td>    0.0085</td> <td>    0.000</td> <td>   40.855</td> <td> 0.000</td> <td>    0.008</td> <td>    0.009</td>\n",
       "</tr>\n",
       "<tr>\n",
       "  <th>CoapplicantIncome</th> <td>    0.0103</td> <td>    0.000</td> <td>   21.196</td> <td> 0.000</td> <td>    0.009</td> <td>    0.011</td>\n",
       "</tr>\n",
       "<tr>\n",
       "  <th>Loan_Amount_Term</th>  <td>    0.2206</td> <td>    0.006</td> <td>   40.074</td> <td> 0.000</td> <td>    0.210</td> <td>    0.231</td>\n",
       "</tr>\n",
       "</table>\n",
       "<table class=\"simpletable\">\n",
       "<tr>\n",
       "  <th>Omnibus:</th>       <td>427.277</td> <th>  Durbin-Watson:     </th> <td>   1.970</td>\n",
       "</tr>\n",
       "<tr>\n",
       "  <th>Prob(Omnibus):</th> <td> 0.000</td>  <th>  Jarque-Bera (JB):  </th> <td>5388.653</td>\n",
       "</tr>\n",
       "<tr>\n",
       "  <th>Skew:</th>          <td> 0.160</td>  <th>  Prob(JB):          </th> <td>    0.00</td>\n",
       "</tr>\n",
       "<tr>\n",
       "  <th>Kurtosis:</th>      <td> 9.501</td>  <th>  Cond. No.          </th> <td>    34.7</td>\n",
       "</tr>\n",
       "</table>"
      ],
      "text/plain": [
       "<class 'statsmodels.iolib.summary.Summary'>\n",
       "\"\"\"\n",
       "                            OLS Regression Results                            \n",
       "==============================================================================\n",
       "Dep. Variable:             LoanAmount   R-squared:                       0.809\n",
       "Model:                            OLS   Adj. R-squared:                  0.809\n",
       "Method:                 Least Squares   F-statistic:                     4308.\n",
       "Date:                Thu, 22 Feb 2018   Prob (F-statistic):               0.00\n",
       "Time:                        15:01:43   Log-Likelihood:                -17398.\n",
       "No. Observations:                3053   AIC:                         3.480e+04\n",
       "Df Residuals:                    3050   BIC:                         3.482e+04\n",
       "Df Model:                           3                                         \n",
       "Covariance Type:            nonrobust                                         \n",
       "=====================================================================================\n",
       "                        coef    std err          t      P>|t|      [0.025      0.975]\n",
       "-------------------------------------------------------------------------------------\n",
       "ApplicantIncome       0.0085      0.000     40.855      0.000       0.008       0.009\n",
       "CoapplicantIncome     0.0103      0.000     21.196      0.000       0.009       0.011\n",
       "Loan_Amount_Term      0.2206      0.006     40.074      0.000       0.210       0.231\n",
       "==============================================================================\n",
       "Omnibus:                      427.277   Durbin-Watson:                   1.970\n",
       "Prob(Omnibus):                  0.000   Jarque-Bera (JB):             5388.653\n",
       "Skew:                           0.160   Prob(JB):                         0.00\n",
       "Kurtosis:                       9.501   Cond. No.                         34.7\n",
       "==============================================================================\n",
       "\n",
       "Warnings:\n",
       "[1] Standard Errors assume that the covariance matrix of the errors is correctly specified.\n",
       "\"\"\""
      ]
     },
     "execution_count": 41,
     "metadata": {},
     "output_type": "execute_result"
    }
   ],
   "source": [
    "results.summary()"
   ]
  },
  {
   "cell_type": "code",
   "execution_count": null,
   "metadata": {
    "collapsed": true
   },
   "outputs": [],
   "source": []
  },
  {
   "cell_type": "code",
   "execution_count": 42,
   "metadata": {
    "collapsed": true
   },
   "outputs": [],
   "source": [
    "status = [1 if values == 'Y' else 0 for values in dataset2.Loan_Status]     \n",
    "\n",
    "dataset2['Loan_Status'] = status\n",
    "y = dataset2['Loan_Status']\n",
    "\n",
    "x = dataset2.iloc[:,[6,8]].values            #applicant income"
   ]
  },
  {
   "cell_type": "code",
   "execution_count": 43,
   "metadata": {},
   "outputs": [
    {
     "data": {
      "text/plain": [
       "array([1, 0], dtype=int64)"
      ]
     },
     "execution_count": 43,
     "metadata": {},
     "output_type": "execute_result"
    }
   ],
   "source": [
    "dataset2.Loan_Status.unique()"
   ]
  },
  {
   "cell_type": "code",
   "execution_count": 44,
   "metadata": {
    "collapsed": true
   },
   "outputs": [],
   "source": [
    "x_train, x_test, y_train, y_test = train_test_split(x, y, test_size = 0.10, random_state = 2)"
   ]
  },
  {
   "cell_type": "code",
   "execution_count": 45,
   "metadata": {},
   "outputs": [
    {
     "name": "stdout",
     "output_type": "stream",
     "text": [
      "[[ 6083.   330.]\n",
      " [ 3087.   136.]\n",
      " [ 1916.    67.]\n",
      " ..., \n",
      " [ 5116.   165.]\n",
      " [ 5516.   495.]\n",
      " [ 3430.   128.]]\n"
     ]
    }
   ],
   "source": [
    "print (x_train)"
   ]
  },
  {
   "cell_type": "code",
   "execution_count": 46,
   "metadata": {},
   "outputs": [
    {
     "data": {
      "text/plain": [
       "LinearRegression(copy_X=True, fit_intercept=True, n_jobs=1, normalize=False)"
      ]
     },
     "execution_count": 46,
     "metadata": {},
     "output_type": "execute_result"
    }
   ],
   "source": [
    "reg.fit(x_train, y_train)"
   ]
  },
  {
   "cell_type": "code",
   "execution_count": 47,
   "metadata": {},
   "outputs": [
    {
     "data": {
      "text/plain": [
       "array([ 0.68124703,  0.7025606 ,  0.70385837,  0.69494189,  0.69950139,\n",
       "        0.67225039,  0.69892876,  0.70050843,  0.69570009,  0.67119791,\n",
       "        0.70845853,  0.69735946,  0.70653773,  0.6967562 ,  0.69768786,\n",
       "        0.70892846,  0.70252482,  0.62818878,  0.69267802,  0.6894602 ,\n",
       "        0.7025606 ,  0.70159684,  0.69469675,  0.69877717,  0.68992092,\n",
       "        0.68366482,  0.69900912,  0.69527597,  0.6977346 ,  0.70435937,\n",
       "        0.70092905,  0.70051648,  0.68676026,  0.70135382,  0.70170247,\n",
       "        0.69565703,  0.70051648,  0.7130424 ,  0.69238849,  0.69080136,\n",
       "        0.70138021,  0.69997491,  0.71892698,  0.69500759,  0.68992092,\n",
       "        0.69735095,  0.69271668,  0.70866283,  0.71917111,  0.7128989 ,\n",
       "        0.70208933,  0.69503656,  0.70095699,  0.70520219,  0.69885517,\n",
       "        0.70282261,  0.69290234,  0.69614307,  0.70417381,  0.61660456,\n",
       "        0.70328013,  0.69923006,  0.70269932,  0.70114165,  0.70097322,\n",
       "        0.69751059,  0.69027374,  0.70596274,  0.70617902,  0.68449035,\n",
       "        0.70651303,  0.68858539,  0.70520219,  0.6981482 ,  0.69673371,\n",
       "        0.68807331,  0.70520219,  0.6975059 ,  0.69653788,  0.69963531,\n",
       "        0.67905872,  0.69614307,  0.67621614,  0.6998031 ,  0.71215435,\n",
       "        0.69379704,  0.6791656 ,  0.70192948,  0.70979902,  0.70851635,\n",
       "        0.69806524,  0.67771646,  0.69991275,  0.67599715,  0.70258305,\n",
       "        0.67654559,  0.69861107,  0.70866283,  0.69236912,  0.69963531,\n",
       "        0.68471948,  0.70795845,  0.70263449,  0.71589951,  0.70949197,\n",
       "        0.70149601,  0.70437144,  0.71363598,  0.68043373,  0.70149601,\n",
       "        0.6946707 ,  0.70866283,  0.69022465,  0.6724725 ,  0.67302992,\n",
       "        0.69383973,  0.68854123,  0.71001566,  0.69781733,  0.69645627,\n",
       "        0.71221952,  0.67225039,  0.70092905,  0.68282076,  0.70544495,\n",
       "        0.70722832,  0.68937959,  0.69501265,  0.69735946,  0.69713467,\n",
       "        0.69459058,  0.69692521,  0.6670402 ,  0.69080136,  0.55560304,\n",
       "        0.69397679,  0.64489327,  0.6957513 ,  0.70985423,  0.7000015 ,\n",
       "        0.7019753 ,  0.67514828,  0.70596274,  0.71550649,  0.70764759,\n",
       "        0.70917808,  0.69494189,  0.6983248 ,  0.71017192,  0.68602752,\n",
       "        0.71730929,  0.71730929,  0.7019753 ,  0.69715555,  0.70056923,\n",
       "        0.69659245,  0.69815992,  0.69892876,  0.66845039,  0.69815992,\n",
       "        0.70949197,  0.70548431,  0.69713467,  0.7111566 ,  0.70520219,\n",
       "        0.70158285,  0.7000015 ,  0.69620713,  0.70849042,  0.69411337,\n",
       "        0.68785314,  0.70163081,  0.70323753,  0.66908244,  0.71879687,\n",
       "        0.67691538,  0.71363598,  0.69743346,  0.70440061,  0.70433968,\n",
       "        0.68418023,  0.69776925,  0.68913547,  0.68806865,  0.69027374,\n",
       "        0.69027374,  0.70952517,  0.70092905,  0.705078  ,  0.70185303,\n",
       "        0.71295693,  0.705078  ,  0.70628421,  0.68370303,  0.70026856,\n",
       "        0.6947854 ,  0.69342937,  0.70440061,  0.71381583,  0.6988789 ,\n",
       "        0.70314476,  0.70403028,  0.68886298,  0.69292203,  0.71968485,\n",
       "        0.70269932,  0.70374   ,  0.70052553,  0.690395  ,  0.70052553,\n",
       "        0.69445319,  0.67335077,  0.69793069,  0.70121108,  0.70230608,\n",
       "        0.70178517,  0.70671042,  0.61660456,  0.69341629,  0.68471948,\n",
       "        0.70417381,  0.70835191,  0.69685155,  0.69923006,  0.71770131,\n",
       "        0.69626291,  0.68340514,  0.69861107,  0.71256871,  0.69863701,\n",
       "        0.71770131,  0.69679856,  0.6957513 ,  0.68785314,  0.69659245,\n",
       "        0.70101803,  0.70177848,  0.70460819,  0.70653773,  0.67621614,\n",
       "        0.68471948,  0.70230608,  0.70121185,  0.70435937,  0.69469675,\n",
       "        0.71100849,  0.70835191,  0.67654559,  0.69224664,  0.69935207,\n",
       "        0.7039356 ,  0.70121185,  0.70690974,  0.68937959,  0.7036462 ,\n",
       "        0.70690974,  0.70258305,  0.67454737,  0.70802496,  0.71586195,\n",
       "        0.70098357,  0.69445653,  0.69873292,  0.70489289,  0.686572  ,\n",
       "        0.70651303,  0.69290234,  0.68937959,  0.69923006,  0.69358774,\n",
       "        0.70957212,  0.68492962,  0.67733083,  0.69968427,  0.70311268,\n",
       "        0.70202853,  0.70101803,  0.71550649,  0.68913547,  0.70917284,\n",
       "        0.67683707,  0.70051648,  0.6975059 ,  0.6983248 ,  0.70985423,\n",
       "        0.70688872,  0.70192948,  0.71017192,  0.70092905,  0.70582637,\n",
       "        0.69685155,  0.70491883,  0.61277297,  0.69269489,  0.69117981,\n",
       "        0.69967197,  0.6616366 ,  0.70158946,  0.70548431,  0.64607469,\n",
       "        0.71591497,  0.65835693,  0.69668253,  0.71810204,  0.70133548,\n",
       "        0.69950139])"
      ]
     },
     "execution_count": 47,
     "metadata": {},
     "output_type": "execute_result"
    }
   ],
   "source": [
    "#reg.score(x_test, y_test)\n",
    "y_predict=reg.predict(x_test)\n",
    "y_predict"
   ]
  },
  {
   "cell_type": "code",
   "execution_count": 48,
   "metadata": {},
   "outputs": [
    {
     "data": {
      "text/plain": [
       "0.67647058823529416"
      ]
     },
     "execution_count": 48,
     "metadata": {},
     "output_type": "execute_result"
    }
   ],
   "source": [
    "from sklearn import metrics\n",
    "metrics.accuracy_score(y_predict.round(), y_test)"
   ]
  },
  {
   "cell_type": "code",
   "execution_count": 49,
   "metadata": {
    "collapsed": true
   },
   "outputs": [],
   "source": [
    "y1 = dataset2['LoanAmount']\n",
    "x1= dataset2.iloc[:,[6]].values       "
   ]
  },
  {
   "cell_type": "code",
   "execution_count": 50,
   "metadata": {},
   "outputs": [
    {
     "data": {
      "image/png": "[encoded data removed]",
      "text/plain": [
       "<matplotlib.figure.Figure at 0x14aa8fdf9b0>"
      ]
     },
     "metadata": {},
     "output_type": "display_data"
    }
   ],
   "source": [
    "# Fitting Simple Linear Regression to the Training set\n",
    "\n",
    "reg.fit(x1, y1)\n",
    "\n",
    "# Visualising the Training set results\n",
    "plt.scatter(x1, y1, color = 'red')\n",
    "plt.plot(x1, reg.predict(x1), color = 'blue')\n",
    "plt.title('Applicant Income vs Loan Amount')\n",
    "plt.xlabel('Applicant Income')\n",
    "plt.ylabel('Loan Amount')\n",
    "plt.show()\n",
    "\n"
   ]
  },
  {
   "cell_type": "code",
   "execution_count": 51,
   "metadata": {},
   "outputs": [
    {
     "data": {
      "text/plain": [
       "<seaborn.axisgrid.PairGrid at 0x14aa8fdf198>"
      ]
     },
     "execution_count": 51,
     "metadata": {},
     "output_type": "execute_result"
    },
    {
     "data": {
      "image/png": "[encoded data removed]",
      "text/plain": [
       "<matplotlib.figure.Figure at 0x14aa8fdf128>"
      ]
     },
     "metadata": {},
     "output_type": "display_data"
    }
   ],
   "source": [
    "# visualize the relationship between the features and the response using scatterplots\n",
    "# this produces pairs of scatterplot as shown\n",
    "# use aspect= to control the size of the graphs\n",
    "# use kind='reg' to plot linear regression on the graph\n",
    "sns.pairplot(dataset2, x_vars=['CoapplicantIncome','ApplicantIncome','Loan_Amount_Term'], y_vars='LoanAmount', size=7, aspect=0.7, kind='reg')\n"
   ]
  },
  {
   "cell_type": "markdown",
   "metadata": {},
   "source": [
    "**Cross Validation**"
   ]
  },
  {
   "cell_type": "code",
   "execution_count": 52,
   "metadata": {},
   "outputs": [
    {
     "name": "stdout",
     "output_type": "stream",
     "text": [
      "TRAIN: [1527 1528 1529 ..., 3050 3051 3052] TEST: [   0    1    2 ..., 1524 1525 1526]\n",
      "TRAIN: [   0    1    2 ..., 1524 1525 1526] TEST: [1527 1528 1529 ..., 3050 3051 3052]\n",
      "[ 130.3311219   137.99384579  115.12627566  225.9189287   132.40713851]\n",
      "0.354172477092\n"
     ]
    },
    {
     "name": "stderr",
     "output_type": "stream",
     "text": [
      "C:\\Program Files (x86)\\Microsoft Visual Studio\\Shared\\Anaconda3_64\\lib\\site-packages\\matplotlib\\figure.py:403: UserWarning: matplotlib is currently using a non-GUI backend, so cannot show the figure\n",
      "  \"matplotlib is currently using a non-GUI backend, \"\n"
     ]
    },
    {
     "data": {
      "image/png": "[encoded data removed]",
      "text/plain": [
       "<matplotlib.figure.Figure at 0x14aa769a9b0>"
      ]
     },
     "metadata": {},
     "output_type": "display_data"
    }
   ],
   "source": [
    "from sklearn.model_selection import KFold as kf\n",
    "from sklearn import preprocessing, cross_validation\n",
    "from sklearn import linear_model\n",
    "\n",
    "mj = dataset2[['CoapplicantIncome','ApplicantIncome','Loan_Amount_Term']]\n",
    "\n",
    "y = dataset2['LoanAmount']\n",
    "\n",
    "kfk = kf(n_splits=2)\n",
    "kfk.get_n_splits(mj)\n",
    "\n",
    "for train_index, test_index in kfk.split(mj):\n",
    "    print(\"TRAIN:\",train_index,\"TEST:\",test_index)\n",
    "    X_train, X_test = mj.iloc[train_index], mj.iloc[test_index]\n",
    "    y_train, y_test = y[train_index], y[test_index]\n",
    "     \n",
    "lm = linear_model.LinearRegression()\n",
    "model = lm.fit(X_train,y_train)\n",
    "predictions = lm.predict(X_test)\n",
    "print(predictions[0:5])\n",
    "\n",
    "fig, ax = plt.subplots()\n",
    "fit = np.polyfit(y_test, predictions,deg=1)\n",
    "ax.plot(predictions, fit[0] * predictions + fit[1], color='red')\n",
    "ax.scatter(predictions, y_test)\n",
    "plt.xlabel(\"true values\")\n",
    "plt.ylabel(\"Predcited values\")\n",
    "\n",
    "\n",
    "\n",
    "fig.show()\n",
    "\n",
    "print(model.score(X_test,y_test))"
   ]
  },
  {
   "cell_type": "markdown",
   "metadata": {
    "collapsed": true
   },
   "source": [
    "The K-fold cross validation did not do well because it reduced the accuracy score to 0.35 which was 0.80 before"
   ]
  },
  {
   "cell_type": "markdown",
   "metadata": {
    "collapsed": true
   },
   "source": [
    "***Regularization***"
   ]
  },
  {
   "cell_type": "markdown",
   "metadata": {},
   "source": [
    "regularization is tuning or selecting the preferred level of model complexity so your models are better at predicting.\n",
    "\n",
    "LASSO (Least Absolute Shrinkage Selector Operator)"
   ]
  },
  {
   "cell_type": "code",
   "execution_count": 53,
   "metadata": {},
   "outputs": [
    {
     "name": "stdout",
     "output_type": "stream",
     "text": [
      "0.354172477276\n"
     ]
    },
    {
     "data": {
      "image/png": "[encoded data removed]",
      "text/plain": [
       "<matplotlib.figure.Figure at 0x14aa8fccba8>"
      ]
     },
     "metadata": {},
     "output_type": "display_data"
    }
   ],
   "source": [
    "from sklearn.feature_selection import RFE\n",
    "\n",
    "ridge = Ridge(fit_intercept=True, alpha=0.5)\n",
    "v = ridge.fit(X_train, y_train)\n",
    "y_pred = ridge.predict(X_test)\n",
    "\n",
    "fig, ax = plt.subplots()\n",
    "fit = np.polyfit(y_test, y_pred,deg=1)\n",
    "ax.plot(y_pred, fit[0] * y_pred + fit[1], color='red')\n",
    "ax.scatter(y_pred, y_test)\n",
    "\n",
    "plt.xlabel(\"test values\")\n",
    "plt.ylabel(\"Predicted values\")\n",
    "print(v.score(X_test,y_test))"
   ]
  },
  {
   "cell_type": "markdown",
   "metadata": {},
   "source": [
    "As we can see, regularization is slightly affecting the model score (0.00002)"
   ]
  },
  {
   "cell_type": "markdown",
   "metadata": {
    "collapsed": true
   },
   "source": [
    "Yes the regularization does seem to validate better on sample data"
   ]
  }
 ],
 "metadata": {
  "kernelspec": {
   "display_name": "Python 3",
   "language": "python",
   "name": "python3"
  },
  "language_info": {
   "codemirror_mode": {
    "name": "ipython",
    "version": 3
   },
   "file_extension": ".py",
   "mimetype": "text/x-python",
   "name": "python",
   "nbconvert_exporter": "python",
   "pygments_lexer": "ipython3",
   "version": "3.6.4"
  }
 },
 "nbformat": 4,
 "nbformat_minor": 2
}
